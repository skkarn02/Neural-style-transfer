{
 "cells": [
  {
   "cell_type": "markdown",
   "metadata": {},
   "source": [
    "# IMPORTING NECESSARY LIBRARIES"
   ]
  },
  {
   "cell_type": "code",
   "execution_count": 1,
   "metadata": {},
   "outputs": [
    {
     "name": "stderr",
     "output_type": "stream",
     "text": [
      "Using TensorFlow backend.\n"
     ]
    }
   ],
   "source": [
    "import numpy as np\n",
    "import keras\n",
    "import tensorflow\n",
    "import keras.backend as K\n",
    "from scipy.misc import imsave , imresize , imread\n",
    "from scipy.optimize import fmin_l_bfgs_b\n",
    "from keras.applications import vgg19\n",
    "from keras.preprocessing.image import load_img , img_to_array\n",
    "import matplotlib.pyplot as plt\n",
    "from PIL import Image\n",
    "import time\n",
    "import cv2"
   ]
  },
  {
   "cell_type": "markdown",
   "metadata": {},
   "source": [
    "## IMAGE PREPROCESSING"
   ]
  },
  {
   "cell_type": "code",
   "execution_count": 2,
   "metadata": {},
   "outputs": [],
   "source": [
    "#An image preprocessing function which will take the the image which is the three dimension into a four dimension where the fourth dimension is the batch size\n",
    "img_h=512\n",
    "img_w=512\n",
    "def preprocess(img_path):\n",
    "    img = load_img(img_path)\n",
    "    img = img_to_array(img)\n",
    "    img = np.resize(img, (img_h, img_w, 3))\n",
    "    img = img.astype('float64')\n",
    "    img = np.expand_dims(img, axis=0)\n",
    "    #process image to fit in the vgg19 network\n",
    "    img = vgg19.preprocess_input(img)\n",
    "    return img"
   ]
  },
  {
   "cell_type": "code",
   "execution_count": 3,
   "metadata": {},
   "outputs": [],
   "source": [
    "CONTENT_IMG_PATH='images/content_image.png'\n",
    "STYLE_IMG_PATH='images/style_image.png'"
   ]
  },
  {
   "cell_type": "code",
   "execution_count": 4,
   "metadata": {},
   "outputs": [],
   "source": [
    "#Take the preprocessed image which convert it into array and put the into tensors\n",
    "content_image=K.variable(preprocess(CONTENT_IMG_PATH))\n",
    "style_image =K.variable(preprocess(STYLE_IMG_PATH))\n",
    "#Intializing the generated image\n",
    "gen_image=K.placeholder(shape=(1,img_h,img_w,3))\n",
    "#Concatenate tensors along one direction\n",
    "input_tensor=K.concatenate([content_image,style_image,gen_image] , axis =0)\n"
   ]
  },
  {
   "cell_type": "code",
   "execution_count": 5,
   "metadata": {},
   "outputs": [
    {
     "name": "stdout",
     "output_type": "stream",
     "text": [
      "Downloading data from https://github.com/fchollet/deep-learning-models/releases/download/v0.1/vgg19_weights_tf_dim_ordering_tf_kernels_notop.h5\n",
      "80142336/80134624 [==============================] - 4s 0us/step\n",
      "Model loaded\n"
     ]
    }
   ],
   "source": [
    "#Loading model and giving the concatenate input\n",
    "model=vgg19.VGG19(include_top=False,weights='imagenet',input_tensor=input_tensor)\n",
    "print(\"Model loaded\")"
   ]
  },
  {
   "cell_type": "code",
   "execution_count": 6,
   "metadata": {},
   "outputs": [
    {
     "name": "stdout",
     "output_type": "stream",
     "text": [
      "Layers in VGG19 is {'input_1': <tf.Tensor 'concat:0' shape=(3, 512, 512, 3) dtype=float32>, 'block1_conv1': <tf.Tensor 'block1_conv1/Relu:0' shape=(3, 512, 512, 64) dtype=float32>, 'block1_conv2': <tf.Tensor 'block1_conv2/Relu:0' shape=(3, 512, 512, 64) dtype=float32>, 'block1_pool': <tf.Tensor 'block1_pool/MaxPool:0' shape=(3, 256, 256, 64) dtype=float32>, 'block2_conv1': <tf.Tensor 'block2_conv1/Relu:0' shape=(3, 256, 256, 128) dtype=float32>, 'block2_conv2': <tf.Tensor 'block2_conv2/Relu:0' shape=(3, 256, 256, 128) dtype=float32>, 'block2_pool': <tf.Tensor 'block2_pool/MaxPool:0' shape=(3, 128, 128, 128) dtype=float32>, 'block3_conv1': <tf.Tensor 'block3_conv1/Relu:0' shape=(3, 128, 128, 256) dtype=float32>, 'block3_conv2': <tf.Tensor 'block3_conv2/Relu:0' shape=(3, 128, 128, 256) dtype=float32>, 'block3_conv3': <tf.Tensor 'block3_conv3/Relu:0' shape=(3, 128, 128, 256) dtype=float32>, 'block3_conv4': <tf.Tensor 'block3_conv4/Relu:0' shape=(3, 128, 128, 256) dtype=float32>, 'block3_pool': <tf.Tensor 'block3_pool/MaxPool:0' shape=(3, 64, 64, 256) dtype=float32>, 'block4_conv1': <tf.Tensor 'block4_conv1/Relu:0' shape=(3, 64, 64, 512) dtype=float32>, 'block4_conv2': <tf.Tensor 'block4_conv2/Relu:0' shape=(3, 64, 64, 512) dtype=float32>, 'block4_conv3': <tf.Tensor 'block4_conv3/Relu:0' shape=(3, 64, 64, 512) dtype=float32>, 'block4_conv4': <tf.Tensor 'block4_conv4/Relu:0' shape=(3, 64, 64, 512) dtype=float32>, 'block4_pool': <tf.Tensor 'block4_pool/MaxPool:0' shape=(3, 32, 32, 512) dtype=float32>, 'block5_conv1': <tf.Tensor 'block5_conv1/Relu:0' shape=(3, 32, 32, 512) dtype=float32>, 'block5_conv2': <tf.Tensor 'block5_conv2/Relu:0' shape=(3, 32, 32, 512) dtype=float32>, 'block5_conv3': <tf.Tensor 'block5_conv3/Relu:0' shape=(3, 32, 32, 512) dtype=float32>, 'block5_conv4': <tf.Tensor 'block5_conv4/Relu:0' shape=(3, 32, 32, 512) dtype=float32>, 'block5_pool': <tf.Tensor 'block5_pool/MaxPool:0' shape=(3, 16, 16, 512) dtype=float32>}\n"
     ]
    }
   ],
   "source": [
    "#MAking a dictionary with layer name and its output\n",
    "output=dict([(layer.name,layer.output) for layer in model.layers])\n",
    "print('Layers in VGG19 is {}'.format(output))"
   ]
  },
  {
   "cell_type": "code",
   "execution_count": 7,
   "metadata": {},
   "outputs": [],
   "source": [
    "#Content loss\n",
    "def content_loss(con,gen) :\n",
    "    return K.sum(K.square(gen-con))"
   ]
  },
  {
   "cell_type": "code",
   "execution_count": 8,
   "metadata": {},
   "outputs": [],
   "source": [
    "#Intializing loss as 0\n",
    "loss=0\n",
    "#Content loss hyperparameter\n",
    "alpha=0.025\n",
    "#Style loss hyperparameter\n",
    "beta=5.0\n",
    "#VAriation loss hyperparameter\n",
    "total_variation_weight = 1.0\n",
    "#Taking the output from 'block3_conv2' \n",
    "layer_features=output['block2_conv2']\n",
    "#In input tensor we concatenate content image , style image and generated image \n",
    "# So [content_image,style_image,generated_image]\n",
    "content_img_features=layer_features[0 , : , : , :]\n",
    "generated_img_features=layer_features[2 , : , : , :]\n",
    "loss += alpha*content_loss(content_img_features,generated_img_features)"
   ]
  },
  {
   "cell_type": "code",
   "execution_count": 9,
   "metadata": {},
   "outputs": [],
   "source": [
    "def gram_matrix(x):\n",
    "    features = K.batch_flatten(K.permute_dimensions(x, (2, 0, 1)))\n",
    "    gram = K.dot(features, K.transpose(features))\n",
    "    return gram\n",
    "\n",
    "\n",
    "def style_loss(style, gen):\n",
    "    S = gram_matrix(style)\n",
    "    G = gram_matrix(gen)\n",
    "    channels = 3\n",
    "    size = img_h * img_w\n",
    "    return K.sum(K.square(S - G)) / (4. * (channels ** 2) * (size ** 2))"
   ]
  },
  {
   "cell_type": "code",
   "execution_count": 10,
   "metadata": {},
   "outputs": [],
   "source": [
    "feature_layers = ['block1_conv2', 'block2_conv2',\n",
    "                  'block3_conv3', 'block4_conv3',\n",
    "                  'block5_conv3']"
   ]
  },
  {
   "cell_type": "code",
   "execution_count": 11,
   "metadata": {},
   "outputs": [],
   "source": [
    "for layer_name in feature_layers:\n",
    "    layer_features = output[layer_name]\n",
    "    style_features = layer_features[1, :, :, :]\n",
    "    combination_features = layer_features[2, :, :, :]\n",
    "    sl = style_loss(style_features, combination_features)\n",
    "    loss += (beta / len(feature_layers)) * sl"
   ]
  },
  {
   "cell_type": "code",
   "execution_count": 12,
   "metadata": {},
   "outputs": [],
   "source": [
    "# The two losses computed above produce a noisy output.\n",
    "# Hence, to smoothen the output, we compute the Total Variation Loss\n",
    "def total_variation_loss(x):\n",
    "    assert K.ndim(x) == 4\n",
    "    a = K.square(x[:, :img_h - 1, :img_w - 1, :] - x[:, 1:, :img_w - 1, :])\n",
    "    b = K.square(x[:, :img_h - 1, :img_w - 1, :] - x[:, :img_h - 1, 1:, :])\n",
    "    return K.sum(K.pow(a + b, 1.25))\n",
    "\n",
    "# Calculate the total Variation Loss for the Final Output Image (Combination Image)\n",
    "loss += total_variation_weight * total_variation_loss(gen_image)"
   ]
  },
  {
   "cell_type": "code",
   "execution_count": 13,
   "metadata": {},
   "outputs": [],
   "source": [
    "grads = K.gradients(loss, gen_image)\n",
    "\n",
    "outputs = [loss]\n",
    "if isinstance(grads, (list, tuple)):\n",
    "    outputs += grads\n",
    "else:\n",
    "    outputs.append(grads)\n",
    "\n",
    "f_output = K.function([gen_image], outputs)\n",
    "\n",
    "\n",
    "def eval_loss_and_grads(x):\n",
    "    x = x.reshape((1, img_h, img_w, 3))\n",
    "    outs = f_output([x])\n",
    "    loss_value = outs[0]\n",
    "    if len(outs[1:]) == 1:\n",
    "        grad_values = outs[1].flatten().astype('float64')\n",
    "    else:\n",
    "        grad_values = np.array(outs[1:]).flatten().astype('float64')\n",
    "    return loss_value, grad_values\n",
    "\n",
    "\n",
    "class Evaluator(object):\n",
    "    def __init__(self):\n",
    "        self.loss_value = None\n",
    "        self.grads_value = None\n",
    "\n",
    "    def loss(self, x):\n",
    "        assert self.loss_value is None\n",
    "        loss_value, grad_value = eval_loss_and_grads(x)\n",
    "        self.loss_value = loss_value\n",
    "        self.grads_value = grad_value\n",
    "        return self.loss_value\n",
    "\n",
    "    def grads(self, x):\n",
    "        assert self.loss_value is not None\n",
    "        grads_values = np.copy(self.grads_value)\n",
    "        self.loss_value = None\n",
    "        self.grads_value = None\n",
    "        return grads_values"
   ]
  },
  {
   "cell_type": "code",
   "execution_count": 14,
   "metadata": {},
   "outputs": [],
   "source": [
    "def deprocess_image(img):\n",
    "    if K.image_data_format() == 'channels_first':\n",
    "        # For Theano\n",
    "        img = img.reshape((3, img_h, img_w))\n",
    "        img = img.transpose((1, 2, 0))\n",
    "    else:\n",
    "        img = img.reshape((img_h, img_w, 3))\n",
    "    # Remove zero-center by mean pixel\n",
    "    img[:, :, 0] += 103.939\n",
    "    img[:, :, 1] += 116.779\n",
    "    img[:, :, 2] += 123.68\n",
    "    # 'BGR'->'RGB'\n",
    "    img = img[:, :, ::-1]\n",
    "    img = np.clip(img, 0, 255).astype('uint8')\n",
    "    return img"
   ]
  },
  {
   "cell_type": "code",
   "execution_count": 15,
   "metadata": {},
   "outputs": [
    {
     "name": "stdout",
     "output_type": "stream",
     "text": [
      "Start of iteration 0\n",
      "Current loss value: 21143724000.0\n",
      "Iteration 0 completed in 61s\n",
      "Start of iteration 1\n",
      "Current loss value: 17298057000.0\n",
      "Iteration 1 completed in 19s\n",
      "Start of iteration 2\n",
      "Current loss value: 16189963000.0\n",
      "Iteration 2 completed in 18s\n",
      "Start of iteration 3\n",
      "Current loss value: 15655305000.0\n",
      "Iteration 3 completed in 17s\n",
      "Start of iteration 4\n",
      "Current loss value: 15381467000.0\n",
      "Iteration 4 completed in 18s\n",
      "Start of iteration 5\n",
      "Current loss value: 15215622000.0\n",
      "Iteration 5 completed in 19s\n",
      "Start of iteration 6\n",
      "Current loss value: 15109140000.0\n",
      "Iteration 6 completed in 17s\n",
      "Start of iteration 7\n",
      "Current loss value: 15025493000.0\n",
      "Iteration 7 completed in 17s\n",
      "Start of iteration 8\n",
      "Current loss value: 14961619000.0\n",
      "Iteration 8 completed in 17s\n",
      "Start of iteration 9\n",
      "Current loss value: 14919695000.0\n",
      "Iteration 9 completed in 18s\n",
      "Start of iteration 10\n",
      "Current loss value: 14885800000.0\n",
      "Iteration 10 completed in 18s\n",
      "Start of iteration 11\n",
      "Current loss value: 14859939000.0\n",
      "Iteration 11 completed in 18s\n",
      "Start of iteration 12\n",
      "Current loss value: 14837709000.0\n",
      "Iteration 12 completed in 18s\n",
      "Start of iteration 13\n",
      "Current loss value: 14820773000.0\n",
      "Iteration 13 completed in 18s\n",
      "Start of iteration 14\n",
      "Current loss value: 14807321000.0\n",
      "Iteration 14 completed in 18s\n",
      "Start of iteration 15\n",
      "Current loss value: 14796103000.0\n",
      "Iteration 15 completed in 18s\n",
      "Start of iteration 16\n",
      "Current loss value: 14787066000.0\n",
      "Iteration 16 completed in 18s\n",
      "Start of iteration 17\n",
      "Current loss value: 14779630000.0\n",
      "Iteration 17 completed in 18s\n",
      "Start of iteration 18\n",
      "Current loss value: 14774067000.0\n",
      "Iteration 18 completed in 18s\n",
      "Start of iteration 19\n",
      "Current loss value: 14769809000.0\n",
      "Iteration 19 completed in 18s\n",
      "Start of iteration 20\n",
      "Current loss value: 14766026000.0\n",
      "Iteration 20 completed in 18s\n",
      "Start of iteration 21\n",
      "Current loss value: 14762781000.0\n",
      "Iteration 21 completed in 19s\n",
      "Start of iteration 22\n",
      "Current loss value: 14760133000.0\n",
      "Iteration 22 completed in 18s\n",
      "Start of iteration 23\n",
      "Current loss value: 14758157000.0\n",
      "Iteration 23 completed in 18s\n",
      "Start of iteration 24\n",
      "Current loss value: 14756551000.0\n",
      "Iteration 24 completed in 19s\n",
      "Start of iteration 25\n",
      "Current loss value: 14755192000.0\n",
      "Iteration 25 completed in 18s\n",
      "Start of iteration 26\n",
      "Current loss value: 14754038000.0\n",
      "Iteration 26 completed in 18s\n",
      "Start of iteration 27\n",
      "Current loss value: 14753094000.0\n",
      "Iteration 27 completed in 18s\n",
      "Start of iteration 28\n",
      "Current loss value: 14752345000.0\n",
      "Iteration 28 completed in 17s\n",
      "Start of iteration 29\n",
      "Current loss value: 14751718000.0\n",
      "Iteration 29 completed in 18s\n"
     ]
    }
   ],
   "source": [
    "evaluator = Evaluator()\n",
    "\n",
    "# Run L-BFGS optimizer\n",
    "x = preprocess(CONTENT_IMG_PATH)\n",
    "\n",
    "iterations = 30\n",
    "\n",
    "for i in range(iterations):\n",
    "    print('Start of iteration', i)\n",
    "    start_time = time.time()\n",
    "    x, min_val, info = fmin_l_bfgs_b(evaluator.loss, x.flatten(),\n",
    "                                     fprime=evaluator.grads, maxfun=20)\n",
    "    print('Current loss value:', min_val)\n",
    "    end_time = time.time()\n",
    "    print('Iteration %d completed in %ds' % (i, end_time - start_time))\n",
    "\n",
    "    \n",
    "x=deprocess_image(x)\n",
    "final_image = Image.fromarray(x)\n",
    "final_image.save('StyleTransferredImage.png')"
   ]
  },
  {
   "cell_type": "code",
   "execution_count": null,
   "metadata": {},
   "outputs": [],
   "source": []
  },
  {
   "cell_type": "code",
   "execution_count": null,
   "metadata": {},
   "outputs": [],
   "source": []
  }
 ],
 "metadata": {
  "kernelspec": {
   "display_name": "Python 3",
   "language": "python",
   "name": "python3"
  },
  "language_info": {
   "codemirror_mode": {
    "name": "ipython",
    "version": 3
   },
   "file_extension": ".py",
   "mimetype": "text/x-python",
   "name": "python",
   "nbconvert_exporter": "python",
   "pygments_lexer": "ipython3",
   "version": "3.7.3"
  }
 },
 "nbformat": 4,
 "nbformat_minor": 2
}
